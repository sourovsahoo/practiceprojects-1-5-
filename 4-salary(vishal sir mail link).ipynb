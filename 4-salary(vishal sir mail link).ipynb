{
 "cells": [
  {
   "cell_type": "raw",
   "metadata": {},
   "source": [
    "This is a regression problem where we have to predict the salary of a person from given features"
   ]
  },
  {
   "cell_type": "code",
   "execution_count": 1,
   "metadata": {},
   "outputs": [],
   "source": [
    "import numpy as np\n",
    "import pandas as pd\n",
    "import matplotlib.pyplot as plt\n",
    "import warnings\n",
    "warnings.filterwarnings('ignore')\n",
    "import seaborn as sns"
   ]
  },
  {
   "cell_type": "code",
   "execution_count": 2,
   "metadata": {},
   "outputs": [],
   "source": [
    "df=pd.read_csv('salary.csv')\n",
    "pd.set_option('display.max_columns',None)"
   ]
  },
  {
   "cell_type": "code",
   "execution_count": 3,
   "metadata": {},
   "outputs": [
    {
     "data": {
      "text/html": [
       "<div>\n",
       "<style scoped>\n",
       "    .dataframe tbody tr th:only-of-type {\n",
       "        vertical-align: middle;\n",
       "    }\n",
       "\n",
       "    .dataframe tbody tr th {\n",
       "        vertical-align: top;\n",
       "    }\n",
       "\n",
       "    .dataframe thead th {\n",
       "        text-align: right;\n",
       "    }\n",
       "</style>\n",
       "<table border=\"1\" class=\"dataframe\">\n",
       "  <thead>\n",
       "    <tr style=\"text-align: right;\">\n",
       "      <th></th>\n",
       "      <th>NAME</th>\n",
       "      <th>JOB TITLE</th>\n",
       "      <th>DEPARTMENT</th>\n",
       "      <th>EMPLOYEE ANNUAL SALARY</th>\n",
       "      <th>ESTIMATED ANNUAL SALARY MINUS FURLOUGHS</th>\n",
       "    </tr>\n",
       "  </thead>\n",
       "  <tbody>\n",
       "    <tr>\n",
       "      <td>0</td>\n",
       "      <td>AARON,  ELVIA J</td>\n",
       "      <td>WATER RATE TAKER</td>\n",
       "      <td>WATER MGMNT</td>\n",
       "      <td>$81000.00</td>\n",
       "      <td>$73862.00</td>\n",
       "    </tr>\n",
       "    <tr>\n",
       "      <td>1</td>\n",
       "      <td>AARON,  JEFFERY M</td>\n",
       "      <td>POLICE OFFICER</td>\n",
       "      <td>POLICE</td>\n",
       "      <td>$74628.00</td>\n",
       "      <td>$74628.00</td>\n",
       "    </tr>\n",
       "    <tr>\n",
       "      <td>2</td>\n",
       "      <td>AARON,  KIMBERLEI R</td>\n",
       "      <td>CHIEF CONTRACT EXPEDITER</td>\n",
       "      <td>FLEET MANAGEMNT</td>\n",
       "      <td>$77280.00</td>\n",
       "      <td>$70174.00</td>\n",
       "    </tr>\n",
       "    <tr>\n",
       "      <td>3</td>\n",
       "      <td>ABAD JR,  VICENTE M</td>\n",
       "      <td>CIVIL ENGINEER IV</td>\n",
       "      <td>WATER MGMNT</td>\n",
       "      <td>$96276.00</td>\n",
       "      <td>$96276.00</td>\n",
       "    </tr>\n",
       "    <tr>\n",
       "      <td>4</td>\n",
       "      <td>ABBATACOLA,  ROBERT J</td>\n",
       "      <td>ELECTRICAL MECHANIC</td>\n",
       "      <td>WATER MGMNT</td>\n",
       "      <td>$84032.00</td>\n",
       "      <td>$76627.00</td>\n",
       "    </tr>\n",
       "  </tbody>\n",
       "</table>\n",
       "</div>"
      ],
      "text/plain": [
       "                    NAME                 JOB TITLE       DEPARTMENT  \\\n",
       "0        AARON,  ELVIA J          WATER RATE TAKER      WATER MGMNT   \n",
       "1      AARON,  JEFFERY M            POLICE OFFICER           POLICE   \n",
       "2    AARON,  KIMBERLEI R  CHIEF CONTRACT EXPEDITER  FLEET MANAGEMNT   \n",
       "3    ABAD JR,  VICENTE M         CIVIL ENGINEER IV      WATER MGMNT   \n",
       "4  ABBATACOLA,  ROBERT J       ELECTRICAL MECHANIC      WATER MGMNT   \n",
       "\n",
       "  EMPLOYEE ANNUAL SALARY ESTIMATED ANNUAL SALARY MINUS FURLOUGHS  \n",
       "0              $81000.00                               $73862.00  \n",
       "1              $74628.00                               $74628.00  \n",
       "2              $77280.00                               $70174.00  \n",
       "3              $96276.00                               $96276.00  \n",
       "4              $84032.00                               $76627.00  "
      ]
     },
     "execution_count": 3,
     "metadata": {},
     "output_type": "execute_result"
    }
   ],
   "source": [
    "df.head()"
   ]
  },
  {
   "cell_type": "code",
   "execution_count": 4,
   "metadata": {},
   "outputs": [
    {
     "data": {
      "text/plain": [
       "(34218, 5)"
      ]
     },
     "execution_count": 4,
     "metadata": {},
     "output_type": "execute_result"
    }
   ],
   "source": [
    "df.shape"
   ]
  },
  {
   "cell_type": "code",
   "execution_count": 5,
   "metadata": {},
   "outputs": [
    {
     "data": {
      "text/plain": [
       "NAME                                       0\n",
       "JOB TITLE                                  0\n",
       "DEPARTMENT                                 0\n",
       "EMPLOYEE ANNUAL SALARY                     0\n",
       "ESTIMATED ANNUAL SALARY MINUS FURLOUGHS    0\n",
       "dtype: int64"
      ]
     },
     "execution_count": 5,
     "metadata": {},
     "output_type": "execute_result"
    }
   ],
   "source": [
    "df.isnull().sum()"
   ]
  },
  {
   "cell_type": "code",
   "execution_count": 6,
   "metadata": {},
   "outputs": [
    {
     "name": "stdout",
     "output_type": "stream",
     "text": [
      "<class 'pandas.core.frame.DataFrame'>\n",
      "RangeIndex: 34218 entries, 0 to 34217\n",
      "Data columns (total 5 columns):\n",
      "NAME                                       34218 non-null object\n",
      "JOB TITLE                                  34218 non-null object\n",
      "DEPARTMENT                                 34218 non-null object\n",
      "EMPLOYEE ANNUAL SALARY                     34218 non-null object\n",
      "ESTIMATED ANNUAL SALARY MINUS FURLOUGHS    34218 non-null object\n",
      "dtypes: object(5)\n",
      "memory usage: 1.3+ MB\n"
     ]
    }
   ],
   "source": [
    "df.info()"
   ]
  },
  {
   "cell_type": "code",
   "execution_count": 7,
   "metadata": {},
   "outputs": [
    {
     "data": {
      "text/plain": [
       "POLICE                   14147\n",
       "FIRE                      5085\n",
       "STREETS & SAN             2193\n",
       "WATER MGMNT               1834\n",
       "OEMC                      1381\n",
       "AVIATION                  1289\n",
       "TRANSPORTN                1230\n",
       "PUBLIC LIBRARY            1063\n",
       "FAMILY & SUPPORT           863\n",
       "HEALTH                     862\n",
       "FLEET MANAGEMNT            612\n",
       "GENERAL SERVICES           477\n",
       "LAW                        413\n",
       "REVENUE                    411\n",
       "CITY COUNCIL               364\n",
       "BUILDINGS                  291\n",
       "COMMUNITY DEVELOPMENT      236\n",
       "BUSINESS AFFAIRS           191\n",
       "FINANCE                    190\n",
       "CITY CLERK                 127\n",
       "BOARD OF ELECTION          114\n",
       "DoIT                        95\n",
       "IPRA                        87\n",
       "HUMAN RESOURCES             73\n",
       "MAYOR'S OFFICE              73\n",
       "ANIMAL CONTRL               66\n",
       "CULTURAL AFFAIRS            65\n",
       "ENVIRONMENT                 61\n",
       "PROCUREMENT                 59\n",
       "INSPECTOR GEN               54\n",
       "BUDGET & MGMT               50\n",
       "ADMIN HEARNG                40\n",
       "DISABILITIES                33\n",
       "HUMAN RELATIONS             31\n",
       "COMPLIANCE                  25\n",
       "TREASURER                   23\n",
       "BOARD OF ETHICS              7\n",
       "POLICE BOARD                 2\n",
       "LICENSE APPL COMM            1\n",
       "Name: DEPARTMENT, dtype: int64"
      ]
     },
     "execution_count": 7,
     "metadata": {},
     "output_type": "execute_result"
    }
   ],
   "source": [
    "df['DEPARTMENT'].value_counts()"
   ]
  },
  {
   "cell_type": "code",
   "execution_count": 8,
   "metadata": {},
   "outputs": [
    {
     "data": {
      "text/plain": [
       "POLICE OFFICER                    10918\n",
       "FIREFIGHTER                        1242\n",
       "FIREFIGHTER-EMT                    1198\n",
       "SERGEANT                           1177\n",
       "MOTOR TRUCK DRIVER                  931\n",
       "                                  ...  \n",
       "CASE ANALYST - LAW                    1\n",
       "MANAGER OF COMPLIANCE ANALYSIS        1\n",
       "ASST PROGRAM DIR                      1\n",
       "ASST AIRPORT MANAGER - MIDWAY         1\n",
       "ASST DEPUTY SUPERINTENDENT            1\n",
       "Name: JOB TITLE, Length: 1124, dtype: int64"
      ]
     },
     "execution_count": 8,
     "metadata": {},
     "output_type": "execute_result"
    }
   ],
   "source": [
    "df['JOB TITLE'].value_counts()"
   ]
  },
  {
   "cell_type": "code",
   "execution_count": 9,
   "metadata": {},
   "outputs": [],
   "source": [
    "#Removing dollar sign and coverting the last two attributes to float so that we can apply algorithms. "
   ]
  },
  {
   "cell_type": "code",
   "execution_count": 10,
   "metadata": {},
   "outputs": [
    {
     "data": {
      "text/html": [
       "<div>\n",
       "<style scoped>\n",
       "    .dataframe tbody tr th:only-of-type {\n",
       "        vertical-align: middle;\n",
       "    }\n",
       "\n",
       "    .dataframe tbody tr th {\n",
       "        vertical-align: top;\n",
       "    }\n",
       "\n",
       "    .dataframe thead th {\n",
       "        text-align: right;\n",
       "    }\n",
       "</style>\n",
       "<table border=\"1\" class=\"dataframe\">\n",
       "  <thead>\n",
       "    <tr style=\"text-align: right;\">\n",
       "      <th></th>\n",
       "      <th>NAME</th>\n",
       "      <th>JOB TITLE</th>\n",
       "      <th>DEPARTMENT</th>\n",
       "      <th>EMPLOYEE ANNUAL SALARY</th>\n",
       "      <th>ESTIMATED ANNUAL SALARY MINUS FURLOUGHS</th>\n",
       "    </tr>\n",
       "  </thead>\n",
       "  <tbody>\n",
       "    <tr>\n",
       "      <td>0</td>\n",
       "      <td>AARON,  ELVIA J</td>\n",
       "      <td>WATER RATE TAKER</td>\n",
       "      <td>WATER MGMNT</td>\n",
       "      <td>81000.00</td>\n",
       "      <td>73862.00</td>\n",
       "    </tr>\n",
       "    <tr>\n",
       "      <td>1</td>\n",
       "      <td>AARON,  JEFFERY M</td>\n",
       "      <td>POLICE OFFICER</td>\n",
       "      <td>POLICE</td>\n",
       "      <td>74628.00</td>\n",
       "      <td>74628.00</td>\n",
       "    </tr>\n",
       "    <tr>\n",
       "      <td>2</td>\n",
       "      <td>AARON,  KIMBERLEI R</td>\n",
       "      <td>CHIEF CONTRACT EXPEDITER</td>\n",
       "      <td>FLEET MANAGEMNT</td>\n",
       "      <td>77280.00</td>\n",
       "      <td>70174.00</td>\n",
       "    </tr>\n",
       "    <tr>\n",
       "      <td>3</td>\n",
       "      <td>ABAD JR,  VICENTE M</td>\n",
       "      <td>CIVIL ENGINEER IV</td>\n",
       "      <td>WATER MGMNT</td>\n",
       "      <td>96276.00</td>\n",
       "      <td>96276.00</td>\n",
       "    </tr>\n",
       "    <tr>\n",
       "      <td>4</td>\n",
       "      <td>ABBATACOLA,  ROBERT J</td>\n",
       "      <td>ELECTRICAL MECHANIC</td>\n",
       "      <td>WATER MGMNT</td>\n",
       "      <td>84032.00</td>\n",
       "      <td>76627.00</td>\n",
       "    </tr>\n",
       "  </tbody>\n",
       "</table>\n",
       "</div>"
      ],
      "text/plain": [
       "                    NAME                 JOB TITLE       DEPARTMENT  \\\n",
       "0        AARON,  ELVIA J          WATER RATE TAKER      WATER MGMNT   \n",
       "1      AARON,  JEFFERY M            POLICE OFFICER           POLICE   \n",
       "2    AARON,  KIMBERLEI R  CHIEF CONTRACT EXPEDITER  FLEET MANAGEMNT   \n",
       "3    ABAD JR,  VICENTE M         CIVIL ENGINEER IV      WATER MGMNT   \n",
       "4  ABBATACOLA,  ROBERT J       ELECTRICAL MECHANIC      WATER MGMNT   \n",
       "\n",
       "  EMPLOYEE ANNUAL SALARY ESTIMATED ANNUAL SALARY MINUS FURLOUGHS  \n",
       "0               81000.00                                73862.00  \n",
       "1               74628.00                                74628.00  \n",
       "2               77280.00                                70174.00  \n",
       "3               96276.00                                96276.00  \n",
       "4               84032.00                                76627.00  "
      ]
     },
     "execution_count": 10,
     "metadata": {},
     "output_type": "execute_result"
    }
   ],
   "source": [
    "df['EMPLOYEE ANNUAL SALARY'] = df['EMPLOYEE ANNUAL SALARY'].str.replace('$','')\n",
    "df['ESTIMATED ANNUAL SALARY MINUS FURLOUGHS'] = df['ESTIMATED ANNUAL SALARY MINUS FURLOUGHS'].str.replace('$','')\n",
    "df.head()"
   ]
  },
  {
   "cell_type": "code",
   "execution_count": 11,
   "metadata": {},
   "outputs": [
    {
     "data": {
      "text/plain": [
       "NAME                                       object\n",
       "JOB TITLE                                  object\n",
       "DEPARTMENT                                 object\n",
       "EMPLOYEE ANNUAL SALARY                     object\n",
       "ESTIMATED ANNUAL SALARY MINUS FURLOUGHS    object\n",
       "dtype: object"
      ]
     },
     "execution_count": 11,
     "metadata": {},
     "output_type": "execute_result"
    }
   ],
   "source": [
    "df.dtypes"
   ]
  },
  {
   "cell_type": "code",
   "execution_count": 12,
   "metadata": {},
   "outputs": [],
   "source": [
    "df['EMPLOYEE ANNUAL SALARY'] = df['EMPLOYEE ANNUAL SALARY'].apply(pd.to_numeric)\n",
    "df['ESTIMATED ANNUAL SALARY MINUS FURLOUGHS']=df['ESTIMATED ANNUAL SALARY MINUS FURLOUGHS'].apply(pd.to_numeric)"
   ]
  },
  {
   "cell_type": "code",
   "execution_count": 13,
   "metadata": {},
   "outputs": [
    {
     "data": {
      "text/plain": [
       "NAME                                        object\n",
       "JOB TITLE                                   object\n",
       "DEPARTMENT                                  object\n",
       "EMPLOYEE ANNUAL SALARY                     float64\n",
       "ESTIMATED ANNUAL SALARY MINUS FURLOUGHS    float64\n",
       "dtype: object"
      ]
     },
     "execution_count": 13,
     "metadata": {},
     "output_type": "execute_result"
    }
   ],
   "source": [
    "df.dtypes"
   ]
  },
  {
   "cell_type": "markdown",
   "metadata": {},
   "source": [
    "# Combining sparse class"
   ]
  },
  {
   "cell_type": "code",
   "execution_count": 14,
   "metadata": {},
   "outputs": [
    {
     "data": {
      "text/plain": [
       "POLICE                   0.413437\n",
       "FIRE                     0.148606\n",
       "STREETS & SAN            0.064089\n",
       "WATER MGMNT              0.053598\n",
       "OEMC                     0.040359\n",
       "AVIATION                 0.037670\n",
       "TRANSPORTN               0.035946\n",
       "PUBLIC LIBRARY           0.031066\n",
       "FAMILY & SUPPORT         0.025221\n",
       "HEALTH                   0.025191\n",
       "FLEET MANAGEMNT          0.017885\n",
       "GENERAL SERVICES         0.013940\n",
       "LAW                      0.012070\n",
       "REVENUE                  0.012011\n",
       "CITY COUNCIL             0.010638\n",
       "BUILDINGS                0.008504\n",
       "COMMUNITY DEVELOPMENT    0.006897\n",
       "BUSINESS AFFAIRS         0.005582\n",
       "FINANCE                  0.005553\n",
       "CITY CLERK               0.003711\n",
       "BOARD OF ELECTION        0.003332\n",
       "DoIT                     0.002776\n",
       "IPRA                     0.002543\n",
       "HUMAN RESOURCES          0.002133\n",
       "MAYOR'S OFFICE           0.002133\n",
       "ANIMAL CONTRL            0.001929\n",
       "CULTURAL AFFAIRS         0.001900\n",
       "ENVIRONMENT              0.001783\n",
       "PROCUREMENT              0.001724\n",
       "INSPECTOR GEN            0.001578\n",
       "BUDGET & MGMT            0.001461\n",
       "ADMIN HEARNG             0.001169\n",
       "DISABILITIES             0.000964\n",
       "HUMAN RELATIONS          0.000906\n",
       "COMPLIANCE               0.000731\n",
       "TREASURER                0.000672\n",
       "BOARD OF ETHICS          0.000205\n",
       "POLICE BOARD             0.000058\n",
       "LICENSE APPL COMM        0.000029\n",
       "Name: DEPARTMENT, dtype: float64"
      ]
     },
     "execution_count": 14,
     "metadata": {},
     "output_type": "execute_result"
    }
   ],
   "source": [
    "df['DEPARTMENT'].value_counts(normalize=True)"
   ]
  },
  {
   "cell_type": "code",
   "execution_count": 15,
   "metadata": {},
   "outputs": [],
   "source": [
    "#departments which occur less than 1%(0.01) in the dataset are replaced as 'rare_var'\n",
    "\n",
    "temp=df['DEPARTMENT'].value_counts(normalize=True)\n",
    "temp_df=temp[temp>0.01].index       \n",
    "    \n",
    "df['DEPARTMENT']=np.where(df['DEPARTMENT'].isin(temp_df),df['DEPARTMENT'],'rare_var')"
   ]
  },
  {
   "cell_type": "code",
   "execution_count": 16,
   "metadata": {},
   "outputs": [
    {
     "data": {
      "text/plain": [
       "POLICE              0.413437\n",
       "FIRE                0.148606\n",
       "STREETS & SAN       0.064089\n",
       "rare_var            0.058273\n",
       "WATER MGMNT         0.053598\n",
       "OEMC                0.040359\n",
       "AVIATION            0.037670\n",
       "TRANSPORTN          0.035946\n",
       "PUBLIC LIBRARY      0.031066\n",
       "FAMILY & SUPPORT    0.025221\n",
       "HEALTH              0.025191\n",
       "FLEET MANAGEMNT     0.017885\n",
       "GENERAL SERVICES    0.013940\n",
       "LAW                 0.012070\n",
       "REVENUE             0.012011\n",
       "CITY COUNCIL        0.010638\n",
       "Name: DEPARTMENT, dtype: float64"
      ]
     },
     "execution_count": 16,
     "metadata": {},
     "output_type": "execute_result"
    }
   ],
   "source": [
    "df['DEPARTMENT'].value_counts(normalize=True)"
   ]
  },
  {
   "cell_type": "code",
   "execution_count": 17,
   "metadata": {},
   "outputs": [
    {
     "data": {
      "text/plain": [
       "POLICE OFFICER                    0.319072\n",
       "FIREFIGHTER                       0.036297\n",
       "FIREFIGHTER-EMT                   0.035011\n",
       "SERGEANT                          0.034397\n",
       "MOTOR TRUCK DRIVER                0.027208\n",
       "                                    ...   \n",
       "CASE ANALYST - LAW                0.000029\n",
       "MANAGER OF COMPLIANCE ANALYSIS    0.000029\n",
       "ASST PROGRAM DIR                  0.000029\n",
       "ASST AIRPORT MANAGER - MIDWAY     0.000029\n",
       "ASST DEPUTY SUPERINTENDENT        0.000029\n",
       "Name: JOB TITLE, Length: 1124, dtype: float64"
      ]
     },
     "execution_count": 17,
     "metadata": {},
     "output_type": "execute_result"
    }
   ],
   "source": [
    "df['JOB TITLE'].value_counts(normalize=True)"
   ]
  },
  {
   "cell_type": "code",
   "execution_count": 18,
   "metadata": {},
   "outputs": [],
   "source": [
    "temp=df['JOB TITLE'].value_counts(normalize=True)\n",
    "temp_df=temp[temp>0.01].index       \n",
    "    \n",
    "df['JOB TITLE']=np.where(df['JOB TITLE'].isin(temp_df),df['JOB TITLE'],'rare_var')"
   ]
  },
  {
   "cell_type": "code",
   "execution_count": 19,
   "metadata": {},
   "outputs": [
    {
     "data": {
      "text/plain": [
       "rare_var                       0.444824\n",
       "POLICE OFFICER                 0.319072\n",
       "FIREFIGHTER                    0.036297\n",
       "FIREFIGHTER-EMT                0.035011\n",
       "SERGEANT                       0.034397\n",
       "MOTOR TRUCK DRIVER             0.027208\n",
       "SANITATION LABORER             0.026916\n",
       "CROSSING GUARD                 0.023058\n",
       "TRAFFIC CONTROL AIDE-HOURLY    0.014174\n",
       "LIEUTENANT                     0.013239\n",
       "CONSTRUCTION LABORER           0.013005\n",
       "POOL MOTOR TRUCK DRIVER        0.012800\n",
       "Name: JOB TITLE, dtype: float64"
      ]
     },
     "execution_count": 19,
     "metadata": {},
     "output_type": "execute_result"
    }
   ],
   "source": [
    "df['JOB TITLE'].value_counts(normalize=True)"
   ]
  },
  {
   "cell_type": "code",
   "execution_count": 20,
   "metadata": {},
   "outputs": [],
   "source": [
    "#using enumerate() function instead of label encoder to preserve a ordinal property of higher the frequecy higher the number\n",
    "#label encoder gives numbering by alphabetical order with no ordinality preservation\n",
    "labels_sorted=df['DEPARTMENT'].value_counts().sort_values().index\n",
    "   \n",
    "labels_ordered={k:i for i,k in enumerate(labels_sorted,0)}\n",
    "\n",
    "df['DEPARTMENT']=df['DEPARTMENT'].map(labels_ordered)"
   ]
  },
  {
   "cell_type": "code",
   "execution_count": 21,
   "metadata": {},
   "outputs": [],
   "source": [
    "labels_sorted=df['JOB TITLE'].value_counts().sort_values().index\n",
    "   \n",
    "labels_ordered={k:i for i,k in enumerate(labels_sorted,0)}\n",
    "\n",
    "df['JOB TITLE']=df['JOB TITLE'].map(labels_ordered)"
   ]
  },
  {
   "cell_type": "code",
   "execution_count": 22,
   "metadata": {},
   "outputs": [],
   "source": [
    "#dropping name column as it is not impacting the output hence not required for model building\n",
    "df=df.drop(['NAME'],axis=1)"
   ]
  },
  {
   "cell_type": "code",
   "execution_count": 23,
   "metadata": {},
   "outputs": [
    {
     "data": {
      "text/html": [
       "<div>\n",
       "<style scoped>\n",
       "    .dataframe tbody tr th:only-of-type {\n",
       "        vertical-align: middle;\n",
       "    }\n",
       "\n",
       "    .dataframe tbody tr th {\n",
       "        vertical-align: top;\n",
       "    }\n",
       "\n",
       "    .dataframe thead th {\n",
       "        text-align: right;\n",
       "    }\n",
       "</style>\n",
       "<table border=\"1\" class=\"dataframe\">\n",
       "  <thead>\n",
       "    <tr style=\"text-align: right;\">\n",
       "      <th></th>\n",
       "      <th>JOB TITLE</th>\n",
       "      <th>DEPARTMENT</th>\n",
       "      <th>EMPLOYEE ANNUAL SALARY</th>\n",
       "      <th>ESTIMATED ANNUAL SALARY MINUS FURLOUGHS</th>\n",
       "    </tr>\n",
       "  </thead>\n",
       "  <tbody>\n",
       "    <tr>\n",
       "      <td>0</td>\n",
       "      <td>11</td>\n",
       "      <td>11</td>\n",
       "      <td>81000.0</td>\n",
       "      <td>73862.0</td>\n",
       "    </tr>\n",
       "    <tr>\n",
       "      <td>1</td>\n",
       "      <td>10</td>\n",
       "      <td>15</td>\n",
       "      <td>74628.0</td>\n",
       "      <td>74628.0</td>\n",
       "    </tr>\n",
       "    <tr>\n",
       "      <td>2</td>\n",
       "      <td>11</td>\n",
       "      <td>4</td>\n",
       "      <td>77280.0</td>\n",
       "      <td>70174.0</td>\n",
       "    </tr>\n",
       "    <tr>\n",
       "      <td>3</td>\n",
       "      <td>11</td>\n",
       "      <td>11</td>\n",
       "      <td>96276.0</td>\n",
       "      <td>96276.0</td>\n",
       "    </tr>\n",
       "    <tr>\n",
       "      <td>4</td>\n",
       "      <td>11</td>\n",
       "      <td>11</td>\n",
       "      <td>84032.0</td>\n",
       "      <td>76627.0</td>\n",
       "    </tr>\n",
       "  </tbody>\n",
       "</table>\n",
       "</div>"
      ],
      "text/plain": [
       "   JOB TITLE  DEPARTMENT  EMPLOYEE ANNUAL SALARY  \\\n",
       "0         11          11                 81000.0   \n",
       "1         10          15                 74628.0   \n",
       "2         11           4                 77280.0   \n",
       "3         11          11                 96276.0   \n",
       "4         11          11                 84032.0   \n",
       "\n",
       "   ESTIMATED ANNUAL SALARY MINUS FURLOUGHS  \n",
       "0                                  73862.0  \n",
       "1                                  74628.0  \n",
       "2                                  70174.0  \n",
       "3                                  96276.0  \n",
       "4                                  76627.0  "
      ]
     },
     "execution_count": 23,
     "metadata": {},
     "output_type": "execute_result"
    }
   ],
   "source": [
    "df.head()"
   ]
  },
  {
   "cell_type": "markdown",
   "metadata": {},
   "source": [
    "# EDA"
   ]
  },
  {
   "cell_type": "code",
   "execution_count": 24,
   "metadata": {},
   "outputs": [
    {
     "data": {
      "image/png": "[encoded data removed]",
      "text/plain": [
       "<Figure size 432x288 with 1 Axes>"
      ]
     },
     "metadata": {
      "needs_background": "light"
     },
     "output_type": "display_data"
    },
    {
     "data": {
      "image/png": "[encoded data removed]",
      "text/plain": [
       "<Figure size 432x288 with 1 Axes>"
      ]
     },
     "metadata": {
      "needs_background": "light"
     },
     "output_type": "display_data"
    },
    {
     "data": {
      "image/png": "[encoded data removed]",
      "text/plain": [
       "<Figure size 432x288 with 1 Axes>"
      ]
     },
     "metadata": {
      "needs_background": "light"
     },
     "output_type": "display_data"
    },
    {
     "data": {
      "image/png": "[encoded data removed]",
      "text/plain": [
       "<Figure size 432x288 with 1 Axes>"
      ]
     },
     "metadata": {
      "needs_background": "light"
     },
     "output_type": "display_data"
    }
   ],
   "source": [
    "#checking skewness\n",
    "numerical_features=[feature for feature in df.columns if df[feature].dtypes!='object']\n",
    "for feature in numerical_features:\n",
    "    \n",
    "    df[feature].hist(bins=25)\n",
    "    plt.xlabel(feature)\n",
    "    plt.show()"
   ]
  },
  {
   "cell_type": "code",
   "execution_count": 25,
   "metadata": {},
   "outputs": [
    {
     "data": {
      "image/png": "[encoded data removed]",
      "text/plain": [
       "<Figure size 432x288 with 1 Axes>"
      ]
     },
     "metadata": {
      "needs_background": "light"
     },
     "output_type": "display_data"
    },
    {
     "data": {
      "image/png": "[encoded data removed]",
      "text/plain": [
       "<Figure size 432x288 with 1 Axes>"
      ]
     },
     "metadata": {
      "needs_background": "light"
     },
     "output_type": "display_data"
    },
    {
     "data": {
      "image/png": "[encoded data removed]",
      "text/plain": [
       "<Figure size 432x288 with 1 Axes>"
      ]
     },
     "metadata": {
      "needs_background": "light"
     },
     "output_type": "display_data"
    },
    {
     "data": {
      "image/png": "[encoded data removed]",
      "text/plain": [
       "<Figure size 432x288 with 1 Axes>"
      ]
     },
     "metadata": {
      "needs_background": "light"
     },
     "output_type": "display_data"
    }
   ],
   "source": [
    "#checking outliers\n",
    "numerical_features=[feature for feature in df.columns if df[feature].dtypes!='object']\n",
    "for feature in numerical_features:\n",
    "    \n",
    "    df[feature].plot.box()\n",
    "    plt.xlabel(feature)\n",
    "    plt.show()"
   ]
  },
  {
   "cell_type": "markdown",
   "metadata": {},
   "source": [
    "# Data Cleaning"
   ]
  },
  {
   "cell_type": "code",
   "execution_count": null,
   "metadata": {},
   "outputs": [],
   "source": [
    "#data is skewed\n",
    "#so we will use two step method to remove skewness as much as possible.\n",
    "#1-->log transformations\n",
    "#2-->StandarScaler"
   ]
  },
  {
   "cell_type": "code",
   "execution_count": 26,
   "metadata": {},
   "outputs": [
    {
     "data": {
      "text/plain": [
       "JOB TITLE                                 -2.053831\n",
       "DEPARTMENT                                -1.366908\n",
       "EMPLOYEE ANNUAL SALARY                    -0.571787\n",
       "ESTIMATED ANNUAL SALARY MINUS FURLOUGHS   -0.686903\n",
       "dtype: float64"
      ]
     },
     "execution_count": 26,
     "metadata": {},
     "output_type": "execute_result"
    }
   ],
   "source": [
    "df.skew()"
   ]
  },
  {
   "cell_type": "code",
   "execution_count": 27,
   "metadata": {},
   "outputs": [],
   "source": [
    "for col in df.columns:\n",
    "    if df.skew().loc[col]>0.55:\n",
    "        df[col]=np.log1p(df[col])\n",
    "    "
   ]
  },
  {
   "cell_type": "code",
   "execution_count": 28,
   "metadata": {},
   "outputs": [
    {
     "data": {
      "text/plain": [
       "JOB TITLE                                 -2.053831\n",
       "DEPARTMENT                                -1.366908\n",
       "EMPLOYEE ANNUAL SALARY                    -0.571787\n",
       "ESTIMATED ANNUAL SALARY MINUS FURLOUGHS   -0.686903\n",
       "dtype: float64"
      ]
     },
     "execution_count": 28,
     "metadata": {},
     "output_type": "execute_result"
    }
   ],
   "source": [
    "df.skew()"
   ]
  },
  {
   "cell_type": "code",
   "execution_count": 29,
   "metadata": {},
   "outputs": [
    {
     "data": {
      "text/plain": [
       "(34218, 4)"
      ]
     },
     "execution_count": 29,
     "metadata": {},
     "output_type": "execute_result"
    }
   ],
   "source": [
    "#Removing outliers now\n",
    "from scipy.stats import zscore\n",
    "z=abs(zscore(df))\n",
    "z.shape"
   ]
  },
  {
   "cell_type": "code",
   "execution_count": 30,
   "metadata": {},
   "outputs": [
    {
     "data": {
      "text/plain": [
       "(32560, 4)"
      ]
     },
     "execution_count": 30,
     "metadata": {},
     "output_type": "execute_result"
    }
   ],
   "source": [
    "df=df[(z<3).all(axis=1)]\n",
    "df.shape"
   ]
  },
  {
   "cell_type": "code",
   "execution_count": 31,
   "metadata": {},
   "outputs": [],
   "source": [
    "y=df[['ESTIMATED ANNUAL SALARY MINUS FURLOUGHS']]\n",
    "X=df.drop(['ESTIMATED ANNUAL SALARY MINUS FURLOUGHS'],axis=1)"
   ]
  },
  {
   "cell_type": "code",
   "execution_count": 32,
   "metadata": {},
   "outputs": [],
   "source": [
    "#Applying Standard scalar to independent variable only\n",
    "from sklearn.preprocessing import StandardScaler\n",
    "ss=StandardScaler()\n",
    "X_scaled=ss.fit_transform(X)\n",
    "x=pd.DataFrame(data=X_scaled,columns=X.columns)\n"
   ]
  },
  {
   "cell_type": "code",
   "execution_count": 33,
   "metadata": {},
   "outputs": [
    {
     "data": {
      "text/html": [
       "<div>\n",
       "<style scoped>\n",
       "    .dataframe tbody tr th:only-of-type {\n",
       "        vertical-align: middle;\n",
       "    }\n",
       "\n",
       "    .dataframe tbody tr th {\n",
       "        vertical-align: top;\n",
       "    }\n",
       "\n",
       "    .dataframe thead th {\n",
       "        text-align: right;\n",
       "    }\n",
       "</style>\n",
       "<table border=\"1\" class=\"dataframe\">\n",
       "  <thead>\n",
       "    <tr style=\"text-align: right;\">\n",
       "      <th></th>\n",
       "      <th>JOB TITLE</th>\n",
       "      <th>DEPARTMENT</th>\n",
       "      <th>EMPLOYEE ANNUAL SALARY</th>\n",
       "    </tr>\n",
       "  </thead>\n",
       "  <tbody>\n",
       "    <tr>\n",
       "      <td>0</td>\n",
       "      <td>0.659958</td>\n",
       "      <td>-0.349231</td>\n",
       "      <td>0.327986</td>\n",
       "    </tr>\n",
       "    <tr>\n",
       "      <td>1</td>\n",
       "      <td>0.186284</td>\n",
       "      <td>0.738067</td>\n",
       "      <td>0.028728</td>\n",
       "    </tr>\n",
       "    <tr>\n",
       "      <td>2</td>\n",
       "      <td>0.659958</td>\n",
       "      <td>-2.252002</td>\n",
       "      <td>0.153277</td>\n",
       "    </tr>\n",
       "    <tr>\n",
       "      <td>3</td>\n",
       "      <td>0.659958</td>\n",
       "      <td>-0.349231</td>\n",
       "      <td>1.045416</td>\n",
       "    </tr>\n",
       "    <tr>\n",
       "      <td>4</td>\n",
       "      <td>0.659958</td>\n",
       "      <td>-0.349231</td>\n",
       "      <td>0.470382</td>\n",
       "    </tr>\n",
       "  </tbody>\n",
       "</table>\n",
       "</div>"
      ],
      "text/plain": [
       "   JOB TITLE  DEPARTMENT  EMPLOYEE ANNUAL SALARY\n",
       "0   0.659958   -0.349231                0.327986\n",
       "1   0.186284    0.738067                0.028728\n",
       "2   0.659958   -2.252002                0.153277\n",
       "3   0.659958   -0.349231                1.045416\n",
       "4   0.659958   -0.349231                0.470382"
      ]
     },
     "execution_count": 33,
     "metadata": {},
     "output_type": "execute_result"
    }
   ],
   "source": [
    "x.head()"
   ]
  },
  {
   "cell_type": "code",
   "execution_count": 34,
   "metadata": {},
   "outputs": [
    {
     "data": {
      "text/plain": [
       "JOB TITLE                -1.953251\n",
       "DEPARTMENT               -1.385221\n",
       "EMPLOYEE ANNUAL SALARY   -0.904642\n",
       "dtype: float64"
      ]
     },
     "execution_count": 34,
     "metadata": {},
     "output_type": "execute_result"
    }
   ],
   "source": [
    "x.skew()"
   ]
  },
  {
   "cell_type": "markdown",
   "metadata": {},
   "source": [
    "# Applying algorithm"
   ]
  },
  {
   "cell_type": "code",
   "execution_count": 35,
   "metadata": {},
   "outputs": [],
   "source": [
    "y=y\n",
    "x=x"
   ]
  },
  {
   "cell_type": "code",
   "execution_count": 36,
   "metadata": {},
   "outputs": [],
   "source": [
    "from sklearn.neighbors import KNeighborsRegressor\n",
    "from sklearn.svm import SVR\n",
    "from sklearn.linear_model import LinearRegression\n",
    "from sklearn.tree import DecisionTreeRegressor\n",
    "\n",
    "from sklearn.ensemble import RandomForestRegressor\n",
    "from xgboost import XGBRFRegressor"
   ]
  },
  {
   "cell_type": "code",
   "execution_count": 37,
   "metadata": {},
   "outputs": [],
   "source": [
    "from sklearn.metrics import mean_absolute_error\n",
    "from sklearn.metrics import mean_squared_error\n",
    "from sklearn.metrics import r2_score\n",
    "from sklearn.model_selection import train_test_split\n",
    "\n",
    "def maxr2_score(model,x,y):\n",
    "    max_r_score=0\n",
    "    for r_state in range(42,101):\n",
    "        \n",
    "        x_train,x_test,y_train,y_test=train_test_split(x,y,random_state=r_state,test_size=0.25)\n",
    "        model.fit(x_train,y_train)\n",
    "        pred=model.predict(x_test)\n",
    "        score=r2_score(y_test,pred)\n",
    "        \n",
    "        if score>max_r_score:\n",
    "            max_r_score=score\n",
    "            final_r_state=r_state\n",
    "    print('max_r2_score is at random_state  ',final_r_state,'  which is  ',max_r_score)\n",
    "    return final_r_state\n",
    "    "
   ]
  },
  {
   "cell_type": "markdown",
   "metadata": {},
   "source": [
    "# 1-KNN"
   ]
  },
  {
   "cell_type": "code",
   "execution_count": 38,
   "metadata": {},
   "outputs": [
    {
     "name": "stdout",
     "output_type": "stream",
     "text": [
      "max_r2_score is at random_state   82   which is   0.9981139157703076\n"
     ]
    },
    {
     "data": {
      "text/plain": [
       "82"
      ]
     },
     "execution_count": 38,
     "metadata": {},
     "output_type": "execute_result"
    }
   ],
   "source": [
    "knr=KNeighborsRegressor()\n",
    "maxr2_score(knr,x,y)"
   ]
  },
  {
   "cell_type": "code",
   "execution_count": 39,
   "metadata": {},
   "outputs": [
    {
     "data": {
      "text/plain": [
       "{'n_neighbors': 2}"
      ]
     },
     "execution_count": 39,
     "metadata": {},
     "output_type": "execute_result"
    }
   ],
   "source": [
    "#finding best n_neighbor value for knn model\n",
    "from sklearn.model_selection import GridSearchCV\n",
    "n_neighbors={'n_neighbors':range(1,30)}\n",
    "gknr=GridSearchCV(knr,n_neighbors,cv=10)\n",
    "gknr.fit(x,y)\n",
    "gknr.best_params_"
   ]
  },
  {
   "cell_type": "code",
   "execution_count": 40,
   "metadata": {},
   "outputs": [
    {
     "name": "stdout",
     "output_type": "stream",
     "text": [
      "max_r2_score is at random_state   63   which is   0.9983954111704149\n"
     ]
    },
    {
     "data": {
      "text/plain": [
       "63"
      ]
     },
     "execution_count": 40,
     "metadata": {},
     "output_type": "execute_result"
    }
   ],
   "source": [
    "knr=KNeighborsRegressor(n_neighbors=2)\n",
    "r_state=maxr2_score(knr,x,y)\n",
    "r_state"
   ]
  },
  {
   "cell_type": "code",
   "execution_count": 41,
   "metadata": {},
   "outputs": [
    {
     "name": "stdout",
     "output_type": "stream",
     "text": [
      "0.9981777409470964\n"
     ]
    },
    {
     "data": {
      "text/plain": [
       "0.0"
      ]
     },
     "execution_count": 41,
     "metadata": {},
     "output_type": "execute_result"
    }
   ],
   "source": [
    "#cross validation for knn model\n",
    "from sklearn.model_selection import cross_val_score\n",
    "cvs_knr_mean=cross_val_score(knr,x,y,cv=10,scoring='r2').mean()\n",
    "cvs_knr_std=cross_val_score(knr,x,y,cv=10,scoring='r2').mean().std()\n",
    "print(cvs_knr_mean)\n",
    "cvs_knr_std"
   ]
  },
  {
   "cell_type": "markdown",
   "metadata": {},
   "source": [
    "# 2-LinearRegression"
   ]
  },
  {
   "cell_type": "code",
   "execution_count": 42,
   "metadata": {},
   "outputs": [
    {
     "name": "stdout",
     "output_type": "stream",
     "text": [
      "max_r2_score is at random_state   56   which is   0.9856753724504029\n"
     ]
    },
    {
     "data": {
      "text/plain": [
       "56"
      ]
     },
     "execution_count": 42,
     "metadata": {},
     "output_type": "execute_result"
    }
   ],
   "source": [
    "lr=LinearRegression()\n",
    "maxr2_score(lr,x,y)"
   ]
  },
  {
   "cell_type": "code",
   "execution_count": 43,
   "metadata": {},
   "outputs": [],
   "source": [
    "#no gridsearchcv.direct cross vallidation"
   ]
  },
  {
   "cell_type": "code",
   "execution_count": 44,
   "metadata": {},
   "outputs": [
    {
     "name": "stdout",
     "output_type": "stream",
     "text": [
      "0.9849065658392983\n"
     ]
    },
    {
     "data": {
      "text/plain": [
       "0.00038278756307795345"
      ]
     },
     "execution_count": 44,
     "metadata": {},
     "output_type": "execute_result"
    }
   ],
   "source": [
    "#cross validation for Linear regression model\n",
    "from sklearn.model_selection import cross_val_score\n",
    "cvs_lr_mean=cross_val_score(lr,x,y,cv=10,scoring='r2').mean()\n",
    "cvs_lr_std=cross_val_score(lr,x,y,cv=10,scoring='r2').std()\n",
    "print(cvs_lr_mean)\n",
    "cvs_lr_std"
   ]
  },
  {
   "cell_type": "markdown",
   "metadata": {},
   "source": [
    "# 3-Linear Lasso regression"
   ]
  },
  {
   "cell_type": "code",
   "execution_count": 45,
   "metadata": {},
   "outputs": [
    {
     "data": {
      "text/plain": [
       "{'alpha': 0.001}"
      ]
     },
     "execution_count": 45,
     "metadata": {},
     "output_type": "execute_result"
    }
   ],
   "source": [
    "#lasso regression only works after giving parameters in instance\n",
    "from sklearn.linear_model import Lasso\n",
    "las=Lasso()\n",
    "parameters={'alpha':[0.1,0.01,0.001,1]}\n",
    "gscv=GridSearchCV(las,parameters,cv=10)\n",
    "gscv.fit(x,y)\n",
    "gscv.best_params_\n"
   ]
  },
  {
   "cell_type": "code",
   "execution_count": 46,
   "metadata": {},
   "outputs": [
    {
     "name": "stdout",
     "output_type": "stream",
     "text": [
      "max_r2_score is at random_state   56   which is   0.9856753722538589\n"
     ]
    },
    {
     "data": {
      "text/plain": [
       "56"
      ]
     },
     "execution_count": 46,
     "metadata": {},
     "output_type": "execute_result"
    }
   ],
   "source": [
    "las=Lasso(alpha=0.001)\n",
    "maxr2_score(las,x,y)"
   ]
  },
  {
   "cell_type": "code",
   "execution_count": 47,
   "metadata": {},
   "outputs": [
    {
     "name": "stdout",
     "output_type": "stream",
     "text": [
      "0.9849065658242818\n"
     ]
    },
    {
     "data": {
      "text/plain": [
       "0.00038278770215390175"
      ]
     },
     "execution_count": 47,
     "metadata": {},
     "output_type": "execute_result"
    }
   ],
   "source": [
    "#cross validation for Linear lasso model\n",
    "from sklearn.model_selection import cross_val_score\n",
    "cvs_las_mean=cross_val_score(las,x,y,cv=10,scoring='r2').mean()\n",
    "cvs_las_std=cross_val_score(las,x,y,cv=10,scoring='r2').std()\n",
    "print(cvs_las_mean)\n",
    "cvs_las_std"
   ]
  },
  {
   "cell_type": "code",
   "execution_count": null,
   "metadata": {},
   "outputs": [],
   "source": []
  },
  {
   "cell_type": "markdown",
   "metadata": {},
   "source": [
    "# 4-Gradient boosting technique(GBM)"
   ]
  },
  {
   "cell_type": "code",
   "execution_count": 48,
   "metadata": {},
   "outputs": [
    {
     "name": "stdout",
     "output_type": "stream",
     "text": [
      "max_r2_score is at random_state   59   which is   0.9966760122059\n"
     ]
    },
    {
     "data": {
      "text/plain": [
       "59"
      ]
     },
     "execution_count": 48,
     "metadata": {},
     "output_type": "execute_result"
    }
   ],
   "source": [
    "from sklearn.ensemble import GradientBoostingRegressor\n",
    "gbr=GradientBoostingRegressor()\n",
    "maxr2_score(gbr,x,y)"
   ]
  },
  {
   "cell_type": "code",
   "execution_count": 49,
   "metadata": {},
   "outputs": [
    {
     "data": {
      "text/plain": [
       "{'learning_rate': 1, 'n_estimators': 1000}"
      ]
     },
     "execution_count": 49,
     "metadata": {},
     "output_type": "execute_result"
    }
   ],
   "source": [
    "#takes too long for computing\n",
    "from sklearn.ensemble import GradientBoostingRegressor\n",
    "gbr=GradientBoostingRegressor()\n",
    "parameters={'learning_rate':[0.1,0.01,0.001,1],'n_estimators':[10,100,500,1000]}\n",
    "gscv=GridSearchCV(gbr,parameters,cv=10,n_jobs=-1)\n",
    "gscv.fit(x,y)\n",
    "gscv.best_params_\n"
   ]
  },
  {
   "cell_type": "code",
   "execution_count": 50,
   "metadata": {},
   "outputs": [
    {
     "name": "stdout",
     "output_type": "stream",
     "text": [
      "max_r2_score is at random_state   75   which is   0.9966731034146055\n"
     ]
    },
    {
     "data": {
      "text/plain": [
       "75"
      ]
     },
     "execution_count": 50,
     "metadata": {},
     "output_type": "execute_result"
    }
   ],
   "source": [
    "#takes too long for computing\n",
    "gbr=GradientBoostingRegressor(learning_rate=0.01,n_estimators=1000)\n",
    "maxr2_score(gbr,x,y)"
   ]
  },
  {
   "cell_type": "code",
   "execution_count": 51,
   "metadata": {},
   "outputs": [
    {
     "name": "stdout",
     "output_type": "stream",
     "text": [
      "0.9963466118196156\n"
     ]
    },
    {
     "data": {
      "text/plain": [
       "0.00032760609843818613"
      ]
     },
     "execution_count": 51,
     "metadata": {},
     "output_type": "execute_result"
    }
   ],
   "source": [
    "from sklearn.model_selection import cross_val_score\n",
    "gbr=GradientBoostingRegressor(learning_rate=0.01,n_estimators=1000)\n",
    "cvs_gbr_mean=cross_val_score(gbr,x,y,cv=10,scoring='r2').mean()\n",
    "cvs_gbr_std=cross_val_score(gbr,x,y,cv=10,scoring='r2').std()\n",
    "print(cvs_gbr_mean)\n",
    "cvs_gbr_std"
   ]
  },
  {
   "cell_type": "markdown",
   "metadata": {},
   "source": [
    "# 5-Adaboost"
   ]
  },
  {
   "cell_type": "code",
   "execution_count": 52,
   "metadata": {},
   "outputs": [
    {
     "name": "stdout",
     "output_type": "stream",
     "text": [
      "max_r2_score is at random_state   88   which is   0.9834137177145903\n"
     ]
    },
    {
     "data": {
      "text/plain": [
       "88"
      ]
     },
     "execution_count": 52,
     "metadata": {},
     "output_type": "execute_result"
    }
   ],
   "source": [
    "from sklearn.ensemble import AdaBoostRegressor\n",
    "adar=AdaBoostRegressor()\n",
    "maxr2_score(adar,x,y)"
   ]
  },
  {
   "cell_type": "code",
   "execution_count": 53,
   "metadata": {},
   "outputs": [
    {
     "data": {
      "text/plain": [
       "{'base_estimator': DecisionTreeRegressor(criterion='mse', max_depth=None, max_features=None,\n",
       "                       max_leaf_nodes=None, min_impurity_decrease=0.0,\n",
       "                       min_impurity_split=None, min_samples_leaf=1,\n",
       "                       min_samples_split=2, min_weight_fraction_leaf=0.0,\n",
       "                       presort=False, random_state=None, splitter='best'),\n",
       " 'learning_rate': 0.1,\n",
       " 'n_estimators': 10}"
      ]
     },
     "execution_count": 53,
     "metadata": {},
     "output_type": "execute_result"
    }
   ],
   "source": [
    "#takes too long for computing(1hour)\n",
    "parameters={'learning_rate':[0.1,0.01,0.001,1],'n_estimators':[10,100,500,1000],'base_estimator':[lr,las,DecisionTreeRegressor()]}\n",
    "gscv=GridSearchCV(adar,parameters,cv=10,n_jobs=-1)\n",
    "gscv.fit(x,y)\n",
    "gscv.best_params_\n"
   ]
  },
  {
   "cell_type": "code",
   "execution_count": 54,
   "metadata": {},
   "outputs": [
    {
     "name": "stdout",
     "output_type": "stream",
     "text": [
      "max_r2_score is at random_state   56   which is   0.9855678460107743\n"
     ]
    },
    {
     "data": {
      "text/plain": [
       "56"
      ]
     },
     "execution_count": 54,
     "metadata": {},
     "output_type": "execute_result"
    }
   ],
   "source": [
    "adar=AdaBoostRegressor(base_estimator=las,learning_rate=0.1,n_estimators=10)\n",
    "maxr2_score(adar,x,y)"
   ]
  },
  {
   "cell_type": "code",
   "execution_count": 55,
   "metadata": {},
   "outputs": [
    {
     "name": "stdout",
     "output_type": "stream",
     "text": [
      "0.9848559996314854\n"
     ]
    },
    {
     "data": {
      "text/plain": [
       "0.00040550527975477947"
      ]
     },
     "execution_count": 55,
     "metadata": {},
     "output_type": "execute_result"
    }
   ],
   "source": [
    "adar=AdaBoostRegressor(base_estimator=las,learning_rate=0.1,n_estimators=10)\n",
    "cvs_adar_mean=cross_val_score(adar,x,y,cv=10,scoring='r2').mean()\n",
    "cvs_adar_std=cross_val_score(adar,x,y,cv=10,scoring='r2').std()\n",
    "print(cvs_adar_mean)\n",
    "cvs_adar_std"
   ]
  },
  {
   "cell_type": "markdown",
   "metadata": {},
   "source": [
    "# Saving model"
   ]
  },
  {
   "cell_type": "code",
   "execution_count": 69,
   "metadata": {},
   "outputs": [
    {
     "name": "stdout",
     "output_type": "stream",
     "text": [
      "RMSE score=  887.2967092672061\n",
      "r2_score=   0.9982005965272094\n"
     ]
    }
   ],
   "source": [
    "#From all the model tried above KNN performance is best \n",
    "#corresponding random_state=82\n",
    "x_train,x_test,y_train,y_test=train_test_split(x,y,random_state=82,test_size=0.25)\n",
    "knr=KNeighborsRegressor(n_neighbors=2)\n",
    "knr.fit(x_train,y_train)\n",
    "pred=knr.predict(x_test)\n",
    "print('RMSE score= ',np.sqrt(mean_squared_error(y_test,pred)))\n",
    "print('r2_score=  ',r2_score(y_test,pred))"
   ]
  },
  {
   "cell_type": "code",
   "execution_count": 70,
   "metadata": {},
   "outputs": [
    {
     "data": {
      "text/plain": [
       "['salary_knr_regression.csv']"
      ]
     },
     "execution_count": 70,
     "metadata": {},
     "output_type": "execute_result"
    }
   ],
   "source": [
    "from sklearn.externals import joblib\n",
    "joblib.dump(knr,'salary_knr_regression.csv')"
   ]
  },
  {
   "cell_type": "code",
   "execution_count": 71,
   "metadata": {},
   "outputs": [],
   "source": [
    "model=joblib.load('salary_knr_regression.csv')"
   ]
  },
  {
   "cell_type": "code",
   "execution_count": 72,
   "metadata": {},
   "outputs": [
    {
     "data": {
      "text/plain": [
       "array([[ 73848.],\n",
       "       [ 74628.],\n",
       "       [ 79926.],\n",
       "       ...,\n",
       "       [ 74628.],\n",
       "       [ 77238.],\n",
       "       [102003.]])"
      ]
     },
     "execution_count": 72,
     "metadata": {},
     "output_type": "execute_result"
    }
   ],
   "source": [
    "model.predict(x_test)"
   ]
  },
  {
   "cell_type": "code",
   "execution_count": null,
   "metadata": {},
   "outputs": [],
   "source": []
  }
 ],
 "metadata": {
  "kernelspec": {
   "display_name": "Python 3",
   "language": "python",
   "name": "python3"
  },
  "language_info": {
   "codemirror_mode": {
    "name": "ipython",
    "version": 3
   },
   "file_extension": ".py",
   "mimetype": "text/x-python",
   "name": "python",
   "nbconvert_exporter": "python",
   "pygments_lexer": "ipython3",
   "version": "3.7.4"
  }
 },
 "nbformat": 4,
 "nbformat_minor": 2
}
